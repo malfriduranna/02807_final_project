{
 "cells": [
  {
   "cell_type": "code",
   "execution_count": 10,
   "metadata": {},
   "outputs": [],
   "source": [
    "import pandas as pd\n",
    "from collections import Counter\n",
    "import math\n",
    "import numpy as np\n",
    "from sklearn.cluster import KMeans\n",
    "from sklearn.decomposition import PCA\n",
    "import matplotlib.pyplot as plt\n",
    "import tqdm\n",
    "from sklearn.feature_extraction.text import TfidfVectorizer\n",
    "from sklearn.decomposition import TruncatedSVD, PCA\n",
    "from sklearn.cluster import KMeans\n",
    "from sklearn.metrics import silhouette_score, davies_bouldin_score\n",
    "import matplotlib.pyplot as plt\n",
    "\n",
    "import pandas as pd\n",
    "import numpy as np\n",
    "from sklearn.feature_extraction.text import TfidfVectorizer\n",
    "from sklearn.decomposition import IncrementalPCA\n",
    "from sklearn.cluster import KMeans\n",
    "from sklearn.metrics import silhouette_score, davies_bouldin_score\n",
    "import matplotlib.pyplot as plt"
   ]
  },
  {
   "cell_type": "code",
   "execution_count": 11,
   "metadata": {},
   "outputs": [],
   "source": [
    "from tensorflow.keras import layers, models\n",
    "import tensorflow as tf"
   ]
  },
  {
   "cell_type": "code",
   "execution_count": 12,
   "metadata": {},
   "outputs": [],
   "source": [
    "data = pd.read_csv('../data/fake reviews dataset.csv')\n",
    "o_r = data[data['label'] == 'OR']\n",
    "cg = data[data['label'] == 'CG']"
   ]
  },
  {
   "cell_type": "code",
   "execution_count": 13,
   "metadata": {},
   "outputs": [
    {
     "name": "stdout",
     "output_type": "stream",
     "text": [
      "Number of original reviews:  20216\n",
      "Number of computer generated reviews:  20216\n"
     ]
    }
   ],
   "source": [
    "print('Number of original reviews: ', len(o_r))\n",
    "print('Number of computer generated reviews: ', len(cg))"
   ]
  },
  {
   "cell_type": "code",
   "execution_count": 16,
   "metadata": {},
   "outputs": [],
   "source": [
    "def calculate_tfidf(reviews):\n",
    "    vectorizer = TfidfVectorizer(stop_words='english')\n",
    "    tfidf_matrix = vectorizer.fit_transform(reviews)\n",
    "    tfidf_scores = dict(zip(vectorizer.get_feature_names_out(), tfidf_matrix.sum(axis=0).A1))\n",
    "    return tfidf_scores\n",
    "\n",
    "# Calculate TF-IDF for CG and OR reviews separately\n",
    "cg_tfidf = calculate_tfidf(cg['text_'])\n",
    "or_tfidf = calculate_tfidf(o_r['text_'])"
   ]
  },
  {
   "cell_type": "code",
   "execution_count": 17,
   "metadata": {},
   "outputs": [],
   "source": [
    "cg_df = pd.DataFrame(list(cg_tfidf.items()), columns=['word', 'cg_tfidf']).set_index('word')\n",
    "or_df = pd.DataFrame(list(or_tfidf.items()), columns=['word', 'or_tfidf']).set_index('word')\n"
   ]
  },
  {
   "cell_type": "code",
   "execution_count": 18,
   "metadata": {},
   "outputs": [
    {
     "name": "stdout",
     "output_type": "stream",
     "text": [
      "Top distinctive words in CG reviews:\n",
      "              cg_tfidf    or_tfidf  cg_or_diff\n",
      "word                                          \n",
      "book        855.418973  421.821671  433.597302\n",
      "story       585.070164  262.807302  322.262862\n",
      "characters  462.646307  141.606533  321.039773\n",
      "great       819.893869  508.196966  311.696903\n",
      "good        703.649544  400.381030  303.268514\n",
      "loves       460.073096  164.873049  295.200048\n",
      "movie       466.431590  176.407040  290.024549\n",
      "read        581.216130  295.899410  285.316720\n",
      "little      476.424847  241.376555  235.048292\n",
      "bought      432.204544  202.482418  229.722126\n",
      "\n",
      "Top distinctive words in OR reviews:\n",
      "              cg_tfidf  or_tfidf  cg_or_diff\n",
      "word                                        \n",
      "racer         0.431879  0.432281   -0.000403\n",
      "stylized      0.179614  0.180701   -0.001086\n",
      "bookcase      0.196276  0.198093   -0.001817\n",
      "cookbook      1.381391  1.383275   -0.001885\n",
      "rex           1.163751  1.165808   -0.002057\n",
      "fest          0.383117  0.385333   -0.002217\n",
      "decor         3.534427  3.536669   -0.002242\n",
      "nutritionist  0.221155  0.223616   -0.002461\n",
      "bootcamp      0.159770  0.162953   -0.003183\n",
      "klein         1.892888  1.896155   -0.003266\n"
     ]
    }
   ],
   "source": [
    "combined_df = cg_df.join(or_df, how='outer').fillna(0)\n",
    "\n",
    "combined_df['cg_or_diff'] = combined_df['cg_tfidf'] - combined_df['or_tfidf']\n",
    "\n",
    "distinctive_words = combined_df.sort_values('cg_or_diff', ascending=False)\n",
    "\n",
    "top_cg_words = distinctive_words[distinctive_words['cg_or_diff'] > 0].head(10)\n",
    "top_or_words = distinctive_words[distinctive_words['cg_or_diff'] < 0].head(10)\n",
    "\n",
    "print(\"Top distinctive words in CG reviews:\")\n",
    "print(top_cg_words[['cg_tfidf', 'or_tfidf', 'cg_or_diff']])\n",
    "\n",
    "print(\"\\nTop distinctive words in OR reviews:\")\n",
    "print(top_or_words[['cg_tfidf', 'or_tfidf', 'cg_or_diff']])"
   ]
  }
 ],
 "metadata": {
  "kernelspec": {
   "display_name": "myMLvenv",
   "language": "python",
   "name": "python3"
  },
  "language_info": {
   "codemirror_mode": {
    "name": "ipython",
    "version": 3
   },
   "file_extension": ".py",
   "mimetype": "text/x-python",
   "name": "python",
   "nbconvert_exporter": "python",
   "pygments_lexer": "ipython3",
   "version": "3.9.6"
  }
 },
 "nbformat": 4,
 "nbformat_minor": 2
}
